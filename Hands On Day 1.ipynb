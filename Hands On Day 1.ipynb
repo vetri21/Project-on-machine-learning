{
 "cells": [
  {
   "cell_type": "code",
   "execution_count": 1,
   "id": "a1ecc2db-3d89-46e7-a27d-936297f4d993",
   "metadata": {},
   "outputs": [],
   "source": [
    "# variable are the containers used to store any datatypes\n",
    "X=10"
   ]
  },
  {
   "cell_type": "code",
   "execution_count": 2,
   "id": "7e47fdac-12af-403e-b311-e32a899c1ffb",
   "metadata": {},
   "outputs": [
    {
     "name": "stdout",
     "output_type": "stream",
     "text": [
      "10\n"
     ]
    }
   ],
   "source": [
    "# print the variable\n",
    "print(X)"
   ]
  },
  {
   "cell_type": "code",
   "execution_count": 3,
   "id": "459d5c97-1ee7-41f1-99d2-e444e5b1c91f",
   "metadata": {},
   "outputs": [
    {
     "data": {
      "text/plain": [
       "int"
      ]
     },
     "execution_count": 3,
     "metadata": {},
     "output_type": "execute_result"
    }
   ],
   "source": [
    "# check the datatype of the variable\n",
    "type(X)"
   ]
  },
  {
   "cell_type": "code",
   "execution_count": 8,
   "id": "00d70a2c-d415-4d37-b873-d66d40ef7b65",
   "metadata": {},
   "outputs": [
    {
     "data": {
      "text/plain": [
       "str"
      ]
     },
     "execution_count": 8,
     "metadata": {},
     "output_type": "execute_result"
    }
   ],
   "source": [
    "y=\"thivi\"\n",
    "type(y)"
   ]
  },
  {
   "cell_type": "code",
   "execution_count": 10,
   "id": "f5112784-6b62-44fc-8d80-4e20f3cdccef",
   "metadata": {},
   "outputs": [
    {
     "data": {
      "text/plain": [
       "float"
      ]
     },
     "execution_count": 10,
     "metadata": {},
     "output_type": "execute_result"
    }
   ],
   "source": [
    "p=3.0\n",
    "type(p)\n"
   ]
  },
  {
   "cell_type": "code",
   "execution_count": 12,
   "id": "189e989d-b510-4f2e-aec5-88278f8c4e6c",
   "metadata": {},
   "outputs": [
    {
     "name": "stdout",
     "output_type": "stream",
     "text": [
      "<class 'int'>\n"
     ]
    }
   ],
   "source": [
    "# create an integer dataype\n",
    "int_1=20\n",
    "\n",
    "# show the datatype\n",
    "print(type(int_1))\n"
   ]
  },
  {
   "cell_type": "code",
   "execution_count": 14,
   "id": "6983d4f2-a8ba-4746-b5e9-a3622e337513",
   "metadata": {},
   "outputs": [
    {
     "name": "stdout",
     "output_type": "stream",
     "text": [
      "<class 'float'>\n"
     ]
    }
   ],
   "source": [
    "# create an float datatype\n",
    "float_1=20.38\n",
    "\n",
    "# show the dataype\n",
    "print(type(float_1))"
   ]
  },
  {
   "cell_type": "code",
   "execution_count": 16,
   "id": "8dd3488c-02e7-4df4-b59b-fbadaefa9621",
   "metadata": {},
   "outputs": [
    {
     "name": "stdout",
     "output_type": "stream",
     "text": [
      "<class 'str'>\n"
     ]
    }
   ],
   "source": [
    "# create an string datatype\n",
    "string_1=\"Gopal\"\n",
    "\n",
    "# show the datatype\n",
    "print(type(string_1))"
   ]
  },
  {
   "cell_type": "code",
   "execution_count": 20,
   "id": "b7e7e4fc-8442-4963-81e6-70ed87deb9dc",
   "metadata": {},
   "outputs": [
    {
     "name": "stdout",
     "output_type": "stream",
     "text": [
      "<class 'list'>\n",
      "[10, 20, 30, 40]\n",
      "[10.38, 20.46, 30.39, 40.68]\n",
      "['Gopal', 'Nirmal', 'Nandhini', 'Pooja']\n"
     ]
    }
   ],
   "source": [
    "# create an list datatype\n",
    "list_1=[10,20,30,40]\n",
    "list_2=[10.38,20.46,30.39,40.68]\n",
    "list_3=['Gopal','Nirmal','Nandhini','Pooja']\n",
    "\n",
    "# show the datatype\n",
    "print(type(list_1))\n",
    "print(list_1)\n",
    "print(list_2)\n",
    "print(list_3)"
   ]
  },
  {
   "cell_type": "code",
   "execution_count": 22,
   "id": "1e4f027a-b286-411c-ba4e-b9c3ab73ec2e",
   "metadata": {},
   "outputs": [
    {
     "name": "stdout",
     "output_type": "stream",
     "text": [
      "<class 'tuple'>\n"
     ]
    }
   ],
   "source": [
    "# create an tuple datatype\n",
    "tuple_1=(10,20,30,40)\n",
    "tuple_2=(10.38,20.46,30.39,40.68)\n",
    "tuple_3=('Gopal','Nirmal','Nandhini','Pooja')\n",
    "\n"
   ]
  },
  {
   "cell_type": "code",
   "execution_count": 26,
   "id": "e1486b25-d0fc-4f13-b7fb-eebef942a589",
   "metadata": {},
   "outputs": [
    {
     "name": "stdout",
     "output_type": "stream",
     "text": [
      "<class 'set'>\n",
      "<class 'set'>\n",
      "<class 'set'>\n"
     ]
    }
   ],
   "source": [
    "# create an set variable\n",
    "set_1={10,20,30,40}\n",
    "set_2={10.38,20.46,30.39,40.68}\n",
    "set_3={'Gopal','Nirmal','Nandhini','Pooja'}\n",
    "\n",
    "# show the datatype\n",
    "print(type(set_1))\n",
    "print(type(set_2))\n",
    "print(type(set_3))"
   ]
  },
  {
   "cell_type": "code",
   "execution_count": 30,
   "id": "50c197c1-97c6-48d3-989f-d4708fbd4511",
   "metadata": {},
   "outputs": [
    {
     "name": "stdout",
     "output_type": "stream",
     "text": [
      "<class 'bool'>\n",
      "<class 'bool'>\n"
     ]
    }
   ],
   "source": [
    "# create an boolean variable\n",
    "Boolean_1=True\n",
    "Boolean_2=False\n",
    "\n",
    "# show the dataype\n",
    "print(type(Boolean_1))\n",
    "print(type(Boolean_2))"
   ]
  },
  {
   "cell_type": "code",
   "execution_count": 50,
   "id": "c6092267-e061-46db-afae-b006adc056c4",
   "metadata": {},
   "outputs": [
    {
     "name": "stdout",
     "output_type": "stream",
     "text": [
      "<class 'dict'>\n"
     ]
    }
   ],
   "source": [
    "# create an dictionary datatype\n",
    "dictionary_1={'list_1':[10,20,30,40],'tuple_1':(10,20,30,40),'set_1':{10,20,30,40}}\n",
    "\n",
    "# show the datatype\n",
    "print(type(dictionary_1))\n",
    "\n"
   ]
  },
  {
   "cell_type": "markdown",
   "id": "c63f2739-7809-4ddc-a90f-17b524e61a01",
   "metadata": {},
   "source": [
    "# basic operations\n",
    "\n"
   ]
  },
  {
   "cell_type": "code",
   "execution_count": 38,
   "id": "97fbb07f-9bc3-4682-93b5-116bbd3a10b6",
   "metadata": {},
   "outputs": [
    {
     "name": "stdout",
     "output_type": "stream",
     "text": [
      "<class 'float'>\n"
     ]
    }
   ],
   "source": [
    "# typecasting\n",
    "# Task1=typecasting\n",
    "float_2=45.96\n",
    "\n",
    "# show the dataaype\n",
    "print(type(float_2))"
   ]
  },
  {
   "cell_type": "code",
   "execution_count": 48,
   "id": "7a49ba61-a8e1-42b8-b494-0ba9f79b860e",
   "metadata": {},
   "outputs": [
    {
     "name": "stdout",
     "output_type": "stream",
     "text": [
      "45\n"
     ]
    }
   ],
   "source": [
    "int_2=int(float_2)\n",
    "\n",
    "# show the dataaype\n",
    "print(int_2)"
   ]
  },
  {
   "cell_type": "code",
   "execution_count": 55,
   "id": "e880a2a3-fce5-413c-b3f5-cef0c1e73456",
   "metadata": {},
   "outputs": [
    {
     "name": "stdout",
     "output_type": "stream",
     "text": [
      "<class 'int'>\n",
      "<class 'float'>\n"
     ]
    }
   ],
   "source": [
    "int_3=5\n",
    "\n",
    "# show the datatype\n",
    "print(type(int_3))\n",
    "float_3=float(int_3)\n",
    "\n",
    "# show the datatype\n",
    "print(type(float_3))"
   ]
  },
  {
   "cell_type": "code",
   "execution_count": 57,
   "id": "9170ca0e-dca1-42a6-a151-b7837d72b2a0",
   "metadata": {},
   "outputs": [
    {
     "name": "stdout",
     "output_type": "stream",
     "text": [
      "10\n"
     ]
    }
   ],
   "source": [
    "#task2\n",
    "# use of roundfunction\n",
    "float_4=10.1234567789\n",
    "# round the value\n",
    "round_value=round(float_4)\n",
    "# show the output\n",
    "print(round_value)\n"
   ]
  },
  {
   "cell_type": "markdown",
   "id": "11441146-41c8-4f37-aff1-1d79632cdd03",
   "metadata": {},
   "source": [
    "# Arithmetic opertions on Data"
   ]
  },
  {
   "cell_type": "code",
   "execution_count": 2,
   "id": "54872522-86b2-4a9f-bcf8-fe7a2efc0e3a",
   "metadata": {},
   "outputs": [
    {
     "name": "stdout",
     "output_type": "stream",
     "text": [
      "30\n"
     ]
    }
   ],
   "source": [
    "# addition operation\n",
    "# declare the variable\n",
    "a=10\n",
    "b=20\n",
    "# perform the sum\n",
    "sum=a+b\n",
    "# show the output\n",
    "print(sum)"
   ]
  },
  {
   "cell_type": "code",
   "execution_count": 4,
   "id": "08c3e56a-513d-43db-bd5e-0afceb2762f6",
   "metadata": {},
   "outputs": [
    {
     "name": "stdout",
     "output_type": "stream",
     "text": [
      "10\n"
     ]
    }
   ],
   "source": [
    "# subtraction operation\n",
    "# declare the variable\n",
    "a=20\n",
    "b=10\n",
    "# perform the sub\n",
    "sub=a-b\n",
    "#show the output\n",
    "print(sub)"
   ]
  },
  {
   "cell_type": "code",
   "execution_count": 6,
   "id": "4f3c2b0e-9c1e-4032-9cf6-1474867dfe77",
   "metadata": {},
   "outputs": [
    {
     "name": "stdout",
     "output_type": "stream",
     "text": [
      "200\n"
     ]
    }
   ],
   "source": [
    "# multiplication operation\n",
    "# declare the variable\n",
    "a=2\n",
    "b=100\n",
    "#perform the mul\n",
    "mul=a*b\n",
    "#show the output\n",
    "print(mul)"
   ]
  },
  {
   "cell_type": "code",
   "execution_count": 14,
   "id": "e884aace-3a09-4418-9b0d-64212c51838a",
   "metadata": {},
   "outputs": [
    {
     "name": "stdout",
     "output_type": "stream",
     "text": [
      "4.0\n"
     ]
    }
   ],
   "source": [
    "# division operation\n",
    "# declare the variable\n",
    "a=20\n",
    "b=5\n",
    "#perfor the division\n",
    "div=a/b\n",
    "#show the result\n",
    "print(div)"
   ]
  },
  {
   "cell_type": "code",
   "execution_count": 12,
   "id": "ba97e3db-0293-4f06-ac76-38a976b1d742",
   "metadata": {},
   "outputs": [
    {
     "name": "stdout",
     "output_type": "stream",
     "text": [
      "0\n"
     ]
    }
   ],
   "source": [
    "# modulous operation\n",
    "# declare the variable\n",
    "a=20\n",
    "b=5\n",
    "#perfor the modulous\n",
    "mod=a%b\n",
    "#show the result\n",
    "print(mod)"
   ]
  },
  {
   "cell_type": "markdown",
   "id": "7ae0bf19-ba8d-42d1-85f8-bc87de14d2a0",
   "metadata": {},
   "source": [
    "# user defiend function"
   ]
  },
  {
   "cell_type": "code",
   "execution_count": 35,
   "id": "5b3c81c9-1409-452f-9292-61305c04078b",
   "metadata": {},
   "outputs": [
    {
     "data": {
      "text/plain": [
       "30"
      ]
     },
     "execution_count": 35,
     "metadata": {},
     "output_type": "execute_result"
    }
   ],
   "source": [
    "# declare the function named as 'sumation',who can perform the  addition in two numbers\n",
    "def summation():\n",
    "    x=10\n",
    "    y=20\n",
    "    summation=x+y\n",
    "    return summation\n",
    "# call the function\n",
    "summation()"
   ]
  },
  {
   "cell_type": "code",
   "execution_count": 41,
   "id": "22416efc-b2eb-451c-802d-b61d0acf7b48",
   "metadata": {},
   "outputs": [
    {
     "data": {
      "text/plain": [
       "1"
      ]
     },
     "execution_count": 41,
     "metadata": {},
     "output_type": "execute_result"
    }
   ],
   "source": [
    "# declare the function named as'subtraction'\n",
    "#who can the subtraction between two variables\n",
    "def subraction(x,y):\n",
    "    subraction=x-y\n",
    "    return subraction\n",
    "# call the function\n",
    "subraction(1000,999)"
   ]
  },
  {
   "cell_type": "code",
   "execution_count": 47,
   "id": "d0e11038-aacc-439a-ab62-b2ad35c44f52",
   "metadata": {},
   "outputs": [
    {
     "name": "stdin",
     "output_type": "stream",
     "text": [
      "enter the number x: 45\n",
      "enter the number y: 6\n"
     ]
    },
    {
     "data": {
      "text/plain": [
       "270"
      ]
     },
     "execution_count": 47,
     "metadata": {},
     "output_type": "execute_result"
    }
   ],
   "source": [
    "# declare the function multiplication\n",
    "#who can the subtraction between two variables\n",
    "def multiply():\n",
    "    x=int(input(\"enter the number x:\"))\n",
    "    y=int(input(\"enter the number y:\"))\n",
    "    multiply=x*y\n",
    "    return multiply\n",
    "# call the function\n",
    "multiply()"
   ]
  },
  {
   "cell_type": "code",
   "execution_count": null,
   "id": "1b3b3269-84d7-4204-9bfa-375e8a235f4f",
   "metadata": {},
   "outputs": [],
   "source": []
  }
 ],
 "metadata": {
  "kernelspec": {
   "display_name": "Python 3 (ipykernel)",
   "language": "python",
   "name": "python3"
  },
  "language_info": {
   "codemirror_mode": {
    "name": "ipython",
    "version": 3
   },
   "file_extension": ".py",
   "mimetype": "text/x-python",
   "name": "python",
   "nbconvert_exporter": "python",
   "pygments_lexer": "ipython3",
   "version": "3.11.7"
  }
 },
 "nbformat": 4,
 "nbformat_minor": 5
}
